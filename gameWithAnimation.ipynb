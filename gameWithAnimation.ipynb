{
 "cells": [
  {
   "cell_type": "code",
   "execution_count": 1,
   "metadata": {},
   "outputs": [
    {
     "name": "stdout",
     "output_type": "stream",
     "text": [
      "pygame 2.6.1 (SDL 2.28.4, Python 3.12.4)\n",
      "Hello from the pygame community. https://www.pygame.org/contribute.html\n",
      "unit count: 3, where:  ['front', 'back', 'front']\n",
      "positions:  {'myTeam': {'front': [[195, 235.0], [195, 325.0], [195, 415.0]], 'back': [[105, 190], [105, 280], [105, 370]]}, 'enemy': {'front': [[555, 235.0], [555, 325.0], [555, 415.0]], 'back': [[645, 190], [645, 280], [645, 370]]}}\n",
      "0 front\n",
      "1 back\n",
      "2 front\n",
      "unit count: 3, where:  ['front', 'back', 'back']\n",
      "positions:  {'myTeam': {'front': [[195, 415.0], [195, 505.0], [195, 595.0]], 'back': [[105, 190], [105, 280], [105, 370]]}, 'enemy': {'front': [[555, 415.0], [555, 505.0], [555, 595.0]], 'back': [[645, 190], [645, 280], [645, 370]]}}\n",
      "0 front\n",
      "1 back\n",
      "2 back\n",
      "unit count: 3, where:  ['front', 'back', 'back']\n",
      "positions:  {'myTeam': {'front': [[195, 415.0], [195, 505.0], [195, 595.0]], 'back': [[105, 280], [105, 370], [105, 460]]}, 'enemy': {'front': [[555, 415.0], [555, 505.0], [555, 595.0]], 'back': [[645, 280], [645, 370], [645, 460]]}}\n",
      "0 front\n",
      "1 back\n",
      "2 back\n"
     ]
    },
    {
     "ename": "IndexError",
     "evalue": "pop from empty list",
     "output_type": "error",
     "traceback": [
      "\u001b[1;31m---------------------------------------------------------------------------\u001b[0m",
      "\u001b[1;31mIndexError\u001b[0m                                Traceback (most recent call last)",
      "Cell \u001b[1;32mIn[1], line 10\u001b[0m\n\u001b[0;32m      6\u001b[0m \u001b[38;5;66;03m####################################################################################################\u001b[39;00m\n\u001b[0;32m      8\u001b[0m game \u001b[38;5;241m=\u001b[39m gameBody()\n\u001b[1;32m---> 10\u001b[0m game\u001b[38;5;241m.\u001b[39mrunFromScratch()\n",
      "File \u001b[1;32mc:\\Users\\张奕乐\\Documents\\GitHub\\Sharing\\RPGgame\\gameBody.py:391\u001b[0m, in \u001b[0;36mgameBody.runFromScratch\u001b[1;34m(self, myTeamRecord)\u001b[0m\n\u001b[0;32m    389\u001b[0m \u001b[38;5;28mself\u001b[39m\u001b[38;5;241m.\u001b[39mend \u001b[38;5;241m=\u001b[39m ending(\u001b[38;5;28mself\u001b[39m)\n\u001b[0;32m    390\u001b[0m \u001b[38;5;28mself\u001b[39m\u001b[38;5;241m.\u001b[39msetTeams(\u001b[38;5;28;01mTrue\u001b[39;00m, \u001b[38;5;28;01mTrue\u001b[39;00m, myTeamRecord)\n\u001b[1;32m--> 391\u001b[0m \u001b[38;5;28mself\u001b[39m\u001b[38;5;241m.\u001b[39mrunBattle(withAnimation)\n",
      "File \u001b[1;32mc:\\Users\\张奕乐\\Documents\\GitHub\\Sharing\\RPGgame\\gameBody.py:372\u001b[0m, in \u001b[0;36mgameBody.runBattle\u001b[1;34m(self, withAnimation)\u001b[0m\n\u001b[0;32m    370\u001b[0m \u001b[38;5;66;03m# 放完动画就播放结算界面\u001b[39;00m\n\u001b[0;32m    371\u001b[0m \u001b[38;5;28;01mif\u001b[39;00m \u001b[38;5;129;01mnot\u001b[39;00m \u001b[38;5;28mself\u001b[39m\u001b[38;5;241m.\u001b[39mplaying_animations:\n\u001b[1;32m--> 372\u001b[0m     \u001b[38;5;28mself\u001b[39m\u001b[38;5;241m.\u001b[39mend\u001b[38;5;241m.\u001b[39mupdate()\n\u001b[0;32m    373\u001b[0m \u001b[38;5;66;03m# 结算界面选择完毕就退出\u001b[39;00m\n\u001b[0;32m    374\u001b[0m \u001b[38;5;28;01mif\u001b[39;00m \u001b[38;5;28mself\u001b[39m\u001b[38;5;241m.\u001b[39mend\u001b[38;5;241m.\u001b[39mconfirmed:\n",
      "File \u001b[1;32mc:\\Users\\张奕乐\\Documents\\GitHub\\Sharing\\RPGgame\\ending.py:124\u001b[0m, in \u001b[0;36mending.update\u001b[1;34m(self)\u001b[0m\n\u001b[0;32m    122\u001b[0m     \u001b[38;5;28mself\u001b[39m\u001b[38;5;241m.\u001b[39mfaceEnemy()\n\u001b[0;32m    123\u001b[0m \u001b[38;5;28;01melif\u001b[39;00m button_text \u001b[38;5;241m==\u001b[39m \u001b[38;5;124m\"\u001b[39m\u001b[38;5;124m直面自我\u001b[39m\u001b[38;5;124m\"\u001b[39m:  \n\u001b[1;32m--> 124\u001b[0m     \u001b[38;5;28mself\u001b[39m\u001b[38;5;241m.\u001b[39mfaceYourself()\n\u001b[0;32m    125\u001b[0m \u001b[38;5;28;01melif\u001b[39;00m button_text \u001b[38;5;241m==\u001b[39m \u001b[38;5;124m\"\u001b[39m\u001b[38;5;124m 下一局（+500金）\u001b[39m\u001b[38;5;124m\"\u001b[39m:\n\u001b[0;32m    126\u001b[0m     \u001b[38;5;28;01mif\u001b[39;00m \u001b[38;5;28mself\u001b[39m\u001b[38;5;241m.\u001b[39mgame\u001b[38;5;241m.\u001b[39mendOfBattle \u001b[38;5;241m==\u001b[39m \u001b[38;5;124m\"\u001b[39m\u001b[38;5;124m 胜利！\u001b[39m\u001b[38;5;124m\"\u001b[39m:\n",
      "File \u001b[1;32mc:\\Users\\张奕乐\\Documents\\GitHub\\Sharing\\RPGgame\\ending.py:77\u001b[0m, in \u001b[0;36mending.faceYourself\u001b[1;34m(self)\u001b[0m\n\u001b[0;32m     75\u001b[0m \u001b[38;5;28mself\u001b[39m\u001b[38;5;241m.\u001b[39mgame\u001b[38;5;241m.\u001b[39menemy \u001b[38;5;241m=\u001b[39m \u001b[38;5;28mself\u001b[39m\u001b[38;5;241m.\u001b[39mgame\u001b[38;5;241m.\u001b[39mmyTeam\n\u001b[0;32m     76\u001b[0m \u001b[38;5;28mself\u001b[39m\u001b[38;5;241m.\u001b[39mgame\u001b[38;5;241m.\u001b[39menemyArmyList \u001b[38;5;241m=\u001b[39m \u001b[38;5;28mself\u001b[39m\u001b[38;5;241m.\u001b[39mgame\u001b[38;5;241m.\u001b[39mmyTeamArmyList\n\u001b[1;32m---> 77\u001b[0m \u001b[38;5;28mself\u001b[39m\u001b[38;5;241m.\u001b[39mfaceEnemy()\n",
      "File \u001b[1;32mc:\\Users\\张奕乐\\Documents\\GitHub\\Sharing\\RPGgame\\ending.py:71\u001b[0m, in \u001b[0;36mending.faceEnemy\u001b[1;34m(self)\u001b[0m\n\u001b[0;32m     69\u001b[0m \u001b[38;5;28mself\u001b[39m\u001b[38;5;241m.\u001b[39mgame\u001b[38;5;241m.\u001b[39mmyTeam \u001b[38;5;241m=\u001b[39m \u001b[38;5;28;01mNone\u001b[39;00m\n\u001b[0;32m     70\u001b[0m \u001b[38;5;28mself\u001b[39m\u001b[38;5;241m.\u001b[39mgame\u001b[38;5;241m.\u001b[39mmyTeamArmyList \u001b[38;5;241m=\u001b[39m []\n\u001b[1;32m---> 71\u001b[0m \u001b[38;5;28mself\u001b[39m\u001b[38;5;241m.\u001b[39mgame\u001b[38;5;241m.\u001b[39mrunFromSetEnemy()\n",
      "File \u001b[1;32mc:\\Users\\张奕乐\\Documents\\GitHub\\Sharing\\RPGgame\\gameBody.py:399\u001b[0m, in \u001b[0;36mgameBody.runFromSetEnemy\u001b[1;34m(self)\u001b[0m\n\u001b[0;32m    397\u001b[0m \u001b[38;5;28mself\u001b[39m\u001b[38;5;241m.\u001b[39mend \u001b[38;5;241m=\u001b[39m ending(\u001b[38;5;28mself\u001b[39m)\n\u001b[0;32m    398\u001b[0m \u001b[38;5;28mself\u001b[39m\u001b[38;5;241m.\u001b[39msetTeams(\u001b[38;5;28;01mTrue\u001b[39;00m, newEnemy\u001b[38;5;241m=\u001b[39m\u001b[38;5;28;01mFalse\u001b[39;00m, myTeamRecord \u001b[38;5;241m=\u001b[39m[])\n\u001b[1;32m--> 399\u001b[0m \u001b[38;5;28mself\u001b[39m\u001b[38;5;241m.\u001b[39mrunBattle(withAnimation)\n",
      "File \u001b[1;32mc:\\Users\\张奕乐\\Documents\\GitHub\\Sharing\\RPGgame\\gameBody.py:372\u001b[0m, in \u001b[0;36mgameBody.runBattle\u001b[1;34m(self, withAnimation)\u001b[0m\n\u001b[0;32m    370\u001b[0m \u001b[38;5;66;03m# 放完动画就播放结算界面\u001b[39;00m\n\u001b[0;32m    371\u001b[0m \u001b[38;5;28;01mif\u001b[39;00m \u001b[38;5;129;01mnot\u001b[39;00m \u001b[38;5;28mself\u001b[39m\u001b[38;5;241m.\u001b[39mplaying_animations:\n\u001b[1;32m--> 372\u001b[0m     \u001b[38;5;28mself\u001b[39m\u001b[38;5;241m.\u001b[39mend\u001b[38;5;241m.\u001b[39mupdate()\n\u001b[0;32m    373\u001b[0m \u001b[38;5;66;03m# 结算界面选择完毕就退出\u001b[39;00m\n\u001b[0;32m    374\u001b[0m \u001b[38;5;28;01mif\u001b[39;00m \u001b[38;5;28mself\u001b[39m\u001b[38;5;241m.\u001b[39mend\u001b[38;5;241m.\u001b[39mconfirmed:\n",
      "File \u001b[1;32mc:\\Users\\张奕乐\\Documents\\GitHub\\Sharing\\RPGgame\\ending.py:120\u001b[0m, in \u001b[0;36mending.update\u001b[1;34m(self)\u001b[0m\n\u001b[0;32m    118\u001b[0m \u001b[38;5;28;01mif\u001b[39;00m button_rect\u001b[38;5;241m.\u001b[39mcollidepoint(\u001b[38;5;28mself\u001b[39m\u001b[38;5;241m.\u001b[39mmouse_pos):\n\u001b[0;32m    119\u001b[0m     \u001b[38;5;28;01mif\u001b[39;00m button_text \u001b[38;5;241m==\u001b[39m \u001b[38;5;124m\"\u001b[39m\u001b[38;5;124m重新战斗\u001b[39m\u001b[38;5;124m\"\u001b[39m:\n\u001b[1;32m--> 120\u001b[0m         \u001b[38;5;28mself\u001b[39m\u001b[38;5;241m.\u001b[39mresetBattle()\n\u001b[0;32m    121\u001b[0m     \u001b[38;5;28;01melif\u001b[39;00m button_text \u001b[38;5;241m==\u001b[39m \u001b[38;5;124m\"\u001b[39m\u001b[38;5;124m调整阵容\u001b[39m\u001b[38;5;124m\"\u001b[39m:\n\u001b[0;32m    122\u001b[0m         \u001b[38;5;28mself\u001b[39m\u001b[38;5;241m.\u001b[39mfaceEnemy()\n",
      "File \u001b[1;32mc:\\Users\\张奕乐\\Documents\\GitHub\\Sharing\\RPGgame\\ending.py:55\u001b[0m, in \u001b[0;36mending.resetBattle\u001b[1;34m(self)\u001b[0m\n\u001b[0;32m     53\u001b[0m \u001b[38;5;28;01mdef\u001b[39;00m \u001b[38;5;21mresetBattle\u001b[39m(\u001b[38;5;28mself\u001b[39m):\n\u001b[0;32m     54\u001b[0m     \u001b[38;5;28mself\u001b[39m\u001b[38;5;241m.\u001b[39mgame\u001b[38;5;241m.\u001b[39mreset()\n\u001b[1;32m---> 55\u001b[0m     \u001b[38;5;28mself\u001b[39m\u001b[38;5;241m.\u001b[39mgame\u001b[38;5;241m.\u001b[39mmyTeam\u001b[38;5;241m.\u001b[39mreset(\u001b[38;5;124m\"\u001b[39m\u001b[38;5;124mmyTeam\u001b[39m\u001b[38;5;124m\"\u001b[39m)\n\u001b[0;32m     56\u001b[0m     \u001b[38;5;28mself\u001b[39m\u001b[38;5;241m.\u001b[39mgame\u001b[38;5;241m.\u001b[39menemy\u001b[38;5;241m.\u001b[39mreset(\u001b[38;5;124m\"\u001b[39m\u001b[38;5;124menemy\u001b[39m\u001b[38;5;124m\"\u001b[39m)\n\u001b[0;32m     57\u001b[0m     \u001b[38;5;28mself\u001b[39m\u001b[38;5;241m.\u001b[39mgame\u001b[38;5;241m.\u001b[39mrunFromAllSet()\n",
      "File \u001b[1;32mc:\\Users\\张奕乐\\Documents\\GitHub\\Sharing\\RPGgame\\TeamLogic.py:157\u001b[0m, in \u001b[0;36mTeam.reset\u001b[1;34m(self, side)\u001b[0m\n\u001b[0;32m    155\u001b[0m \u001b[38;5;28mself\u001b[39m\u001b[38;5;241m.\u001b[39mwholeTeamTracker \u001b[38;5;241m=\u001b[39m []\n\u001b[0;32m    156\u001b[0m \u001b[38;5;66;03m# 重新分配位置\u001b[39;00m\n\u001b[1;32m--> 157\u001b[0m buildArmy(\u001b[38;5;28mself\u001b[39m, \u001b[38;5;28;01mNone\u001b[39;00m, side, from_list\u001b[38;5;241m=\u001b[39m\u001b[38;5;28;01mFalse\u001b[39;00m)\n",
      "File \u001b[1;32mc:\\Users\\张奕乐\\Documents\\GitHub\\Sharing\\RPGgame\\TeamLogic.py:105\u001b[0m, in \u001b[0;36mbuildArmy\u001b[1;34m(team, units, side, from_list)\u001b[0m\n\u001b[0;32m    103\u001b[0m colors \u001b[38;5;241m=\u001b[39m {\u001b[38;5;124m\"\u001b[39m\u001b[38;5;124mmyTeam\u001b[39m\u001b[38;5;124m\"\u001b[39m: BLUE, \u001b[38;5;124m\"\u001b[39m\u001b[38;5;124menemy\u001b[39m\u001b[38;5;124m\"\u001b[39m: PURPLE}\n\u001b[0;32m    104\u001b[0m \u001b[38;5;28;01mfor\u001b[39;00m unit \u001b[38;5;129;01min\u001b[39;00m team\u001b[38;5;241m.\u001b[39mfront:\n\u001b[1;32m--> 105\u001b[0m     unit\u001b[38;5;241m.\u001b[39mposition \u001b[38;5;241m=\u001b[39m positions[side][\u001b[38;5;124m\"\u001b[39m\u001b[38;5;124mfront\u001b[39m\u001b[38;5;124m\"\u001b[39m]\u001b[38;5;241m.\u001b[39mpop(\u001b[38;5;241m0\u001b[39m)\n\u001b[0;32m    106\u001b[0m     unit\u001b[38;5;241m.\u001b[39moriginal_position \u001b[38;5;241m=\u001b[39m \u001b[38;5;28mtuple\u001b[39m(unit\u001b[38;5;241m.\u001b[39mposition)\n\u001b[0;32m    107\u001b[0m     unit\u001b[38;5;241m.\u001b[39mactual_row \u001b[38;5;241m=\u001b[39m \u001b[38;5;124m\"\u001b[39m\u001b[38;5;124mfront\u001b[39m\u001b[38;5;124m\"\u001b[39m\n",
      "\u001b[1;31mIndexError\u001b[0m: pop from empty list"
     ]
    }
   ],
   "source": [
    "from gameBody import *\n",
    "\n",
    "debug = False\n",
    "printActionDescription = True if debug else False\n",
    "\n",
    "####################################################################################################\n",
    "\n",
    "game = gameBody()\n",
    "\n",
    "game.runFromScratch()\n"
   ]
  }
 ],
 "metadata": {
  "kernelspec": {
   "display_name": "base",
   "language": "python",
   "name": "python3"
  },
  "language_info": {
   "codemirror_mode": {
    "name": "ipython",
    "version": 3
   },
   "file_extension": ".py",
   "mimetype": "text/x-python",
   "name": "python",
   "nbconvert_exporter": "python",
   "pygments_lexer": "ipython3",
   "version": "3.12.4"
  }
 },
 "nbformat": 4,
 "nbformat_minor": 2
}
